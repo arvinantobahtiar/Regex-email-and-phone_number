{
 "cells": [
  {
   "cell_type": "markdown",
   "metadata": {},
   "source": [
    "## Search for text"
   ]
  },
  {
   "cell_type": "code",
   "execution_count": 1,
   "metadata": {},
   "outputs": [
    {
     "name": "stdout",
     "output_type": "stream",
     "text": [
      "<re.Match object; span=(13, 21), match='Portugal'>\n"
     ]
    }
   ],
   "source": [
    "import re\n",
    "\n",
    "txt = \"Ronaldo dari Portugal\"\n",
    "x = re.search(\"Portugal\", txt)\n",
    "print(x)"
   ]
  },
  {
   "cell_type": "code",
   "execution_count": 2,
   "metadata": {},
   "outputs": [
    {
     "name": "stdout",
     "output_type": "stream",
     "text": [
      "founded : <re.Match object; span=(0, 7), match='Ronaldo'>\n",
      "Not found : None\n",
      "Not found : None\n"
     ]
    }
   ],
   "source": [
    "patterns = [\"Ronaldo\", \"dari\", \"Portugal\"]\n",
    "\n",
    "for pattern in patterns :\n",
    "        match = re.match(pattern, txt)\n",
    "        if match :\n",
    "            print(f\"founded : {match}\")\n",
    "        else :\n",
    "            print(f\"Not found : {match}\")"
   ]
  },
  {
   "cell_type": "markdown",
   "metadata": {},
   "source": [
    "## Regex findall function"
   ]
  },
  {
   "cell_type": "code",
   "execution_count": 3,
   "metadata": {},
   "outputs": [
    {
     "name": "stdout",
     "output_type": "stream",
     "text": [
      "['081391780814', '081911546940']\n"
     ]
    }
   ],
   "source": [
    "text = \"halo saya arvin dengan nomor telepon 081391780814 dan nomr rafi saya adalah 081911546940\"\n",
    "\n",
    "pattern = r'\\d{12,13}'\n",
    "matches = re.findall(pattern, text)\n",
    "\n",
    "print(matches)"
   ]
  },
  {
   "cell_type": "markdown",
   "metadata": {},
   "source": [
    "## Regex substitute function "
   ]
  },
  {
   "cell_type": "code",
   "execution_count": 4,
   "metadata": {},
   "outputs": [
    {
     "name": "stdout",
     "output_type": "stream",
     "text": [
      "halo saya arvin dengan nomor telepon 081391780814 dan nomr rafsurd saya adalah 081911546940\n"
     ]
    }
   ],
   "source": [
    "pattern = \"rafi\"\n",
    "replace = \"rafsurd\"\n",
    "\n",
    "substitute = re.sub(pattern, replace, text)\n",
    "\n",
    "print(substitute) "
   ]
  },
  {
   "cell_type": "markdown",
   "metadata": {},
   "source": [
    "## Creating dummy data with Faker library"
   ]
  },
  {
   "cell_type": "code",
   "execution_count": 61,
   "metadata": {},
   "outputs": [
    {
     "name": "stdout",
     "output_type": "stream",
     "text": [
      "10 data dummy telah disimpan dalam dummy_data.txt.\n"
     ]
    }
   ],
   "source": [
    "from faker import Faker\n",
    "\n",
    "fake = Faker(locale='id_ID')\n",
    "\n",
    "jumlah_data = 10\n",
    "\n",
    "dummy_data = []\n",
    "\n",
    "for _ in range(jumlah_data):\n",
    "    nama = fake.name()\n",
    "    nomor_telepon = fake.phone_number()\n",
    "    alamat = fake.address()\n",
    "    email = fake.email()\n",
    "    \n",
    "    data = f\"Nama: {nama}\\nNomor Telepon: {nomor_telepon}\\nAlamat: {alamat}\\nEmail: {email}\\n\"\n",
    "    dummy_data.append(data)\n",
    "\n",
    "file_name = \"dummy_data.txt\"\n",
    "with open(file_name, \"w\") as file:\n",
    "    for data in dummy_data:\n",
    "        file.write(data + \"\\n\")\n",
    "\n",
    "print(f\"{jumlah_data} data dummy telah disimpan dalam {file_name}.\")"
   ]
  },
  {
   "cell_type": "code",
   "execution_count": 62,
   "metadata": {},
   "outputs": [
    {
     "name": "stdout",
     "output_type": "stream",
     "text": [
      "['Nama: Kiandra Puspasari\\nNomor Telepon: +62 (0369) 596 4303\\nAlamat: Gg. Rajiman No. 147\\nSukabumi, BB 67490\\nEmail: dwiandriani@example.org\\n', 'Nama: Hani Yulianti\\nNomor Telepon: (0803) 225-4846\\nAlamat: Gg. Dr. Djunjunan No. 841\\nBitung, Nusa Tenggara Timur 77610\\nEmail: joko47@example.com\\n', 'Nama: Sutan Jaka Firgantoro\\nNomor Telepon: (058) 380-6584\\nAlamat: Jalan Jamika No. 021\\nPekanbaru, JI 19041\\nEmail: vsitompul@example.org\\n', 'Nama: Fitria Palastri\\nNomor Telepon: +62 (45) 784 8127\\nAlamat: Jalan W.R. Supratman No. 58\\nBatu, SN 97149\\nEmail: elatupono@example.net\\n', 'Nama: Queen Mandasari\\nNomor Telepon: +62-892-430-6124\\nAlamat: Gang Dipenogoro No. 76\\nTangerang Selatan, BB 84661\\nEmail: zjanuar@example.net\\n', 'Nama: Rini Lestari\\nNomor Telepon: +62-063-980-8381\\nAlamat: Jalan Cempaka No. 36\\nSungai Penuh, BB 84797\\nEmail: ramadanmaman@example.org\\n', 'Nama: Fitriani Hidayat\\nNomor Telepon: +62 (0324) 012 0207\\nAlamat: Jl. Gegerkalong Hilir No. 886\\nBandung, Gorontalo 40031\\nEmail: usadalintang@example.org\\n', 'Nama: Jasmin Marpaung\\nNomor Telepon: +62 (19) 739-0265\\nAlamat: Gang Raya Ujungberung No. 1\\nCirebon, SR 08516\\nEmail: lestaridarmanto@example.com\\n', 'Nama: Lanang Sihombing, S.IP\\nNomor Telepon: +62 (27) 107 5604\\nAlamat: Gg. H.J Maemunah No. 692\\nPrabumulih, Jawa Tengah 91065\\nEmail: yanisaputra@example.com\\n', 'Nama: Zelda Melani\\nNomor Telepon: +62 (62) 592-7865\\nAlamat: Gg. Sukajadi No. 2\\nBekasi, SS 24515\\nEmail: mahfudhandayani@example.net\\n']\n"
     ]
    }
   ],
   "source": [
    "print(dummy_data)"
   ]
  },
  {
   "cell_type": "markdown",
   "metadata": {},
   "source": [
    "## Create a Regex pattern to capture onyly E-mail and phone number"
   ]
  },
  {
   "cell_type": "code",
   "execution_count": 67,
   "metadata": {},
   "outputs": [],
   "source": [
    "import pandas as pd\n",
    "import numpy as np\n",
    "\n",
    "if not isinstance(dummy_data, str):\n",
    "    dummy_data = str(dummy_data)\n",
    "\n",
    "df = pd.DataFrame()\n",
    "\n",
    "def capture_email(data) :\n",
    "    email = r'\\b[A-Za-z0-9._%+-]+@[A-Za-z0-9.-]+\\.[A-Z|a-z]{2,7}\\b'\n",
    "    df['Email'] = re.findall(email, data)\n",
    "    \n",
    "def capture_phone_number(data) :\n",
    "    phone = r'\\+?\\D\\d{2,4}(?:[-.()\\s]*\\d{2,4}){2,4}(?:x\\d+)?'\n",
    "    df['Phone_number'] = re.findall(phone, data)\n"
   ]
  },
  {
   "cell_type": "code",
   "execution_count": 68,
   "metadata": {},
   "outputs": [],
   "source": [
    "capture_email(dummy_data)\n",
    "capture_phone_number(dummy_data)"
   ]
  },
  {
   "cell_type": "code",
   "execution_count": 69,
   "metadata": {},
   "outputs": [
    {
     "data": {
      "text/html": [
       "<div>\n",
       "<style scoped>\n",
       "    .dataframe tbody tr th:only-of-type {\n",
       "        vertical-align: middle;\n",
       "    }\n",
       "\n",
       "    .dataframe tbody tr th {\n",
       "        vertical-align: top;\n",
       "    }\n",
       "\n",
       "    .dataframe thead th {\n",
       "        text-align: right;\n",
       "    }\n",
       "</style>\n",
       "<table border=\"1\" class=\"dataframe\">\n",
       "  <thead>\n",
       "    <tr style=\"text-align: right;\">\n",
       "      <th></th>\n",
       "      <th>Email</th>\n",
       "      <th>Phone_number</th>\n",
       "    </tr>\n",
       "  </thead>\n",
       "  <tbody>\n",
       "    <tr>\n",
       "      <th>0</th>\n",
       "      <td>dwiandriani@example.org</td>\n",
       "      <td>+62 (0369) 596 4303</td>\n",
       "    </tr>\n",
       "    <tr>\n",
       "      <th>1</th>\n",
       "      <td>joko47@example.com</td>\n",
       "      <td>(0803) 225-4846</td>\n",
       "    </tr>\n",
       "    <tr>\n",
       "      <th>2</th>\n",
       "      <td>vsitompul@example.org</td>\n",
       "      <td>(058) 380-6584</td>\n",
       "    </tr>\n",
       "    <tr>\n",
       "      <th>3</th>\n",
       "      <td>elatupono@example.net</td>\n",
       "      <td>+62 (45) 784 8127</td>\n",
       "    </tr>\n",
       "    <tr>\n",
       "      <th>4</th>\n",
       "      <td>zjanuar@example.net</td>\n",
       "      <td>+62-892-430-6124</td>\n",
       "    </tr>\n",
       "    <tr>\n",
       "      <th>5</th>\n",
       "      <td>ramadanmaman@example.org</td>\n",
       "      <td>+62-063-980-8381</td>\n",
       "    </tr>\n",
       "    <tr>\n",
       "      <th>6</th>\n",
       "      <td>usadalintang@example.org</td>\n",
       "      <td>+62 (0324) 012 0207</td>\n",
       "    </tr>\n",
       "    <tr>\n",
       "      <th>7</th>\n",
       "      <td>lestaridarmanto@example.com</td>\n",
       "      <td>+62 (19) 739-0265</td>\n",
       "    </tr>\n",
       "    <tr>\n",
       "      <th>8</th>\n",
       "      <td>yanisaputra@example.com</td>\n",
       "      <td>+62 (27) 107 5604</td>\n",
       "    </tr>\n",
       "    <tr>\n",
       "      <th>9</th>\n",
       "      <td>mahfudhandayani@example.net</td>\n",
       "      <td>+62 (62) 592-7865</td>\n",
       "    </tr>\n",
       "  </tbody>\n",
       "</table>\n",
       "</div>"
      ],
      "text/plain": [
       "                         Email         Phone_number\n",
       "0      dwiandriani@example.org  +62 (0369) 596 4303\n",
       "1           joko47@example.com      (0803) 225-4846\n",
       "2        vsitompul@example.org       (058) 380-6584\n",
       "3        elatupono@example.net    +62 (45) 784 8127\n",
       "4          zjanuar@example.net     +62-892-430-6124\n",
       "5     ramadanmaman@example.org     +62-063-980-8381\n",
       "6     usadalintang@example.org  +62 (0324) 012 0207\n",
       "7  lestaridarmanto@example.com    +62 (19) 739-0265\n",
       "8      yanisaputra@example.com    +62 (27) 107 5604\n",
       "9  mahfudhandayani@example.net    +62 (62) 592-7865"
      ]
     },
     "execution_count": 69,
     "metadata": {},
     "output_type": "execute_result"
    }
   ],
   "source": [
    "df"
   ]
  }
 ],
 "metadata": {
  "kernelspec": {
   "display_name": "base",
   "language": "python",
   "name": "python3"
  },
  "language_info": {
   "codemirror_mode": {
    "name": "ipython",
    "version": 3
   },
   "file_extension": ".py",
   "mimetype": "text/x-python",
   "name": "python",
   "nbconvert_exporter": "python",
   "pygments_lexer": "ipython3",
   "version": "3.9.12"
  }
 },
 "nbformat": 4,
 "nbformat_minor": 2
}
